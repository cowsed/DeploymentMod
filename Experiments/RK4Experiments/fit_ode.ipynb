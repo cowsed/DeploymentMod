{
 "cells": [
  {
   "cell_type": "code",
   "execution_count": 6,
   "metadata": {},
   "outputs": [],
   "source": [
    "import numpy as np\n",
    "import matplotlib.pyplot as plt\n",
    "from scipy.integrate import odeint\n",
    "from lmfit import minimize, Parameters, Parameter, report_fit\n",
    "from scipy.integrate import odeint\n",
    "import pandas as pd"
   ]
  },
  {
   "cell_type": "code",
   "execution_count": 101,
   "metadata": {},
   "outputs": [],
   "source": [
    "df = pd.read_csv(\"../FittingExperiments/Data/Grim/data.csv\")\n",
    "df['timestamp (ms)'] = pd.to_timedelta(df['timestamp (ms)'], unit='ms')\n",
    "df.set_index('timestamp (ms)', inplace=True)\n",
    "\n",
    "def rrc3_pressure_conversion_function_ft(press_kpa):\n",
    "    pressure = press_kpa * 10\n",
    "    altitude = (1 - pow(pressure / 1_013.25, 0.190284)) * 145_366.45\n",
    "    return altitude\n",
    "\n",
    "\n",
    "def ft_to_meters(ft): return ft * 0.3048\n",
    "boost_end = 3_500\n",
    "first_charge = 28_125\n",
    "altim = df[['pressure (kPa)']].copy()\n",
    "altim['alt_m_asl'] = altim['pressure (kPa)'].map(rrc3_pressure_conversion_function_ft).map(ft_to_meters)\n",
    "altim['alt_m_agl'] = altim['alt_m_asl'] - altim['alt_m_asl'].min()"
   ]
  },
  {
   "cell_type": "code",
   "execution_count": 95,
   "metadata": {},
   "outputs": [],
   "source": [
    "def f(y, t, paras):\n",
    "    \"\"\"\n",
    "    Your system of differential equations\n",
    "    \"\"\"\n",
    "\n",
    "    x1 = y[0]\n",
    "    x2 = y[1]\n",
    "\n",
    "    try:\n",
    "        G = paras['g'].value\n",
    "        mb = paras['mb'].value\n",
    "\n",
    "    except KeyError:\n",
    "        G, mb = paras\n",
    "    # the model equations\n",
    "    f0 = G \n",
    "    f1 = -mb * x2\n",
    "    return [f0, f1]\n"
   ]
  },
  {
   "cell_type": "code",
   "execution_count": 86,
   "metadata": {},
   "outputs": [],
   "source": [
    "def g(t, x0, paras):\n",
    "    \"\"\"\n",
    "    Solution to the ODE x'(t) = f(t,x,k) with initial condition x(0) = x0\n",
    "    \"\"\"\n",
    "    x = odeint(f, x0, t, args=(paras,))\n",
    "    return x\n",
    "\n",
    "\n",
    "def residual(paras, t, data):\n",
    "\n",
    "    \"\"\"\n",
    "    compute the residual between actual data and fitted data\n",
    "    \"\"\"\n",
    "\n",
    "    x0 = paras['x10'].value, paras['x20'].value\n",
    "    model = g(t, x0, paras)\n",
    "\n",
    "    # you only have data for one of your variables\n",
    "    x2_model = model[:, 1]\n",
    "    return (x2_model - data).ravel()\n",
    "\n",
    "\n"
   ]
  },
  {
   "cell_type": "code",
   "execution_count": 72,
   "metadata": {},
   "outputs": [],
   "source": [
    "rs_df = df.loc[pd.Timedelta(boost_end, unit='ms'):pd.Timedelta(first_charge, unit='ms')].resample('500ms').mean().dropna()"
   ]
  },
  {
   "cell_type": "code",
   "execution_count": 100,
   "metadata": {},
   "outputs": [
    {
     "name": "stdout",
     "output_type": "stream",
     "text": [
      "[[Fit Statistics]]\n",
      "    # fitting method   = leastsq\n",
      "    # function evals   = 37\n",
      "    # data points      = 50\n",
      "    # variables        = 3\n",
      "    chi-square         = 243.890067\n",
      "    reduced chi-square = 5.18915036\n",
      "    Akaike info crit   = 85.2347286\n",
      "    Bayesian info crit = 90.9707977\n",
      "##  Warning: uncertainties could not be estimated:\n",
      "[[Variables]]\n",
      "    x10:  81.85196 (fixed)\n",
      "    x20:  76.2777657 (init = 0)\n",
      "    g:    0.00000000 (init = 0)\n",
      "    mb:   1.7474e-05 (init = 0)\n"
     ]
    },
    {
     "data": {
      "image/png": "[encoded data removed]",
      "text/plain": [
       "<Figure size 640x480 with 1 Axes>"
      ]
     },
     "metadata": {},
     "output_type": "display_data"
    }
   ],
   "source": [
    "# initial conditions\n",
    "x10 = rs_df['pressure (kPa)'].iloc[0]\n",
    "x20 = 0\n",
    "y0 = [x10, x20]\n",
    "\n",
    "# measured data\n",
    "t_measured = rs_df.index.astype(int).map(lambda x : x / 1_000_000).to_numpy()\n",
    "x2_measured = rs_df['pressure (kPa)'].to_numpy()\n",
    "\n",
    "plt.figure()\n",
    "plt.scatter(t_measured, x2_measured, marker='o', color='b', label='measured data', s=25)\n",
    "\n",
    "# set parameters including bounds; you can also fix parameters (use vary=False)\n",
    "params = Parameters()\n",
    "params.add('x10', value=x10, vary=False)\n",
    "params.add('x20', value=x20, vary=True)\n",
    "\n",
    "params.add('g', value=0.0) #, min=0.0001, max=2.\n",
    "params.add('mb', value=0.0) #, min=0.0001, max=2.\n",
    "\n",
    "# fit model\n",
    "result = minimize(residual, params, args=(t_measured, x2_measured), method='leastsq')  # leastsq nelder\n",
    "# check results of the fit\n",
    "data_fitted = g(t_measured, y0, result.params)\n",
    "\n",
    "# plot fitted data\n",
    "plt.plot(t_measured, data_fitted[:, 1], '-', linewidth=2, color='red', label='fitted data')\n",
    "plt.legend()\n",
    "# plt.xlim([0, max(t_measured)])\n",
    "# plt.ylim([0, 1.1 * max(data_fitted[:, 1])])\n",
    "# display fitted statistics\n",
    "report_fit(result)\n",
    "\n",
    "plt.show()"
   ]
  }
 ],
 "metadata": {
  "kernelspec": {
   "display_name": "python-3.12",
   "language": "python",
   "name": "python3"
  },
  "language_info": {
   "codemirror_mode": {
    "name": "ipython",
    "version": 3
   },
   "file_extension": ".py",
   "mimetype": "text/x-python",
   "name": "python",
   "nbconvert_exporter": "python",
   "pygments_lexer": "ipython3",
   "version": "3.12.4"
  }
 },
 "nbformat": 4,
 "nbformat_minor": 2
}
