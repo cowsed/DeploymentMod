{
 "cells": [
  {
   "cell_type": "markdown",
   "metadata": {},
   "source": [
    "$$F=ma, F=-bv$$\n",
    "- $F$ force\n",
    "- $m$ mass\n",
    "- $a$ acceleration (we only care about after boost)\n",
    "- $-b$ aerodynamic factor\n",
    "- $v$ velocity"
   ]
  },
  {
   "cell_type": "markdown",
   "metadata": {},
   "source": [
    "Parabola don't work :(\n",
    "\n",
    "Fitting a parabola is finding the gravity force youre feeling\n",
    "When fitting real world data, see drag, say wow gravity is pretty strong right here. ill fit to that \n",
    "oh no, im predicting a higher $g$ than there actually is, im now predicting that we'll have a lower apogee.\n",
    "\n",
    "We gotta take into account that we're feeling drag and that that is a changing amount\n"
   ]
  },
  {
   "cell_type": "markdown",
   "metadata": {},
   "source": [
    "Runge-Kutta methodssss\n",
    "Air resistance equation:\n",
    "\n",
    "$ \\frac{d^2A}{dt^2} = g - \\frac{b}{m} (\\frac{dA}{dt})^2$ \n",
    "\n",
    "- $g$ = gravity\n",
    "- $b$ = drag stuff\n",
    "- $m$ = mass of rocket\n",
    "- $A$ = altitude\n",
    "\n",
    "Saurez, Damian. “Speech on air” Deployment mod meeting, 21 Aug. 2024, His apartment, Iowa. Keynote Address."
   ]
  },
  {
   "cell_type": "markdown",
   "metadata": {},
   "source": [
    "https://math.stackexchange.com/questions/4846362/how-to-fit-an-ode-to-data\n"
   ]
  },
  {
   "cell_type": "markdown",
   "metadata": {},
   "source": []
  },
  {
   "cell_type": "code",
   "execution_count": 2,
   "metadata": {},
   "outputs": [],
   "source": [
    "import numpy as np"
   ]
  },
  {
   "cell_type": "code",
   "execution_count": 3,
   "metadata": {},
   "outputs": [],
   "source": [
    "def f(y, t):\n",
    "    return np.array([y[1], -t / (t**2 + 4)**1.5])\n",
    "\n",
    "def rk4_step(y, t, h):\n",
    "\n",
    "    k1 = h * f(y, t)\n",
    "    k2 = h * f(0.5 * k1 + y, 0.5 * h + t)\n",
    "    k3 = h * f(0.5 * k2 + y, 0.5 * h + t)\n",
    "    k4 = h * f(k3 + y, h + t)\n",
    "\n",
    "    return y + (k1 + 2 * k2 + 2 * k3 + k4) / 6., t + h\n",
    "\n",
    "def integrate(tmax, h):\n",
    "    T = [0]\n",
    "    X = [1]\n",
    "    V = [-0.5]\n",
    "\n",
    "    y = np.array([X[0], V[0]])\n",
    "    t = T[0]\n",
    "    for k in range(int(tmax / h)):\n",
    "\n",
    "        y, t = rk4_step(y, t, h)\n",
    "\n",
    "        X.append(y[0])\n",
    "        V.append(y[1])\n",
    "        T.append(t)\n",
    "\n",
    "    return np.array(T), np.array(X), np.array(V)"
   ]
  },
  {
   "cell_type": "code",
   "execution_count": 4,
   "metadata": {},
   "outputs": [],
   "source": [
    "tmax = 10\n",
    "h = 0.2\n",
    "t, x, v = integrate(tmax, h)"
   ]
  },
  {
   "cell_type": "code",
   "execution_count": 5,
   "metadata": {},
   "outputs": [],
   "source": [
    "import matplotlib.pyplot as plt"
   ]
  },
  {
   "cell_type": "code",
   "execution_count": 13,
   "metadata": {},
   "outputs": [
    {
     "ename": "ValueError",
     "evalue": "setting an array element with a sequence. The requested array has an inhomogeneous shape after 1 dimensions. The detected shape was (2,) + inhomogeneous part.",
     "output_type": "error",
     "traceback": [
      "\u001b[0;31m---------------------------------------------------------------------------\u001b[0m",
      "\u001b[0;31mValueError\u001b[0m                                Traceback (most recent call last)",
      "Cell \u001b[0;32mIn[13], line 2\u001b[0m\n\u001b[1;32m      1\u001b[0m plt\u001b[38;5;241m.\u001b[39mplot(t, x)\n\u001b[0;32m----> 2\u001b[0m plt\u001b[38;5;241m.\u001b[39mplot(t, \u001b[43mf\u001b[49m\u001b[43m(\u001b[49m\u001b[43m[\u001b[49m\u001b[38;5;241;43m0\u001b[39;49m\u001b[43m,\u001b[49m\u001b[38;5;241;43m0\u001b[39;49m\u001b[43m]\u001b[49m\u001b[43m,\u001b[49m\u001b[43mt\u001b[49m\u001b[43m)\u001b[49m)\n\u001b[1;32m      3\u001b[0m plt\u001b[38;5;241m.\u001b[39mshow()\n\u001b[1;32m      4\u001b[0m plt\u001b[38;5;241m.\u001b[39mplot(t,v)\n",
      "Cell \u001b[0;32mIn[3], line 2\u001b[0m, in \u001b[0;36mf\u001b[0;34m(y, t)\u001b[0m\n\u001b[1;32m      1\u001b[0m \u001b[38;5;28;01mdef\u001b[39;00m \u001b[38;5;21mf\u001b[39m(y, t):\n\u001b[0;32m----> 2\u001b[0m     \u001b[38;5;28;01mreturn\u001b[39;00m \u001b[43mnp\u001b[49m\u001b[38;5;241;43m.\u001b[39;49m\u001b[43marray\u001b[49m\u001b[43m(\u001b[49m\u001b[43m[\u001b[49m\u001b[43my\u001b[49m\u001b[43m[\u001b[49m\u001b[38;5;241;43m1\u001b[39;49m\u001b[43m]\u001b[49m\u001b[43m,\u001b[49m\u001b[43m \u001b[49m\u001b[38;5;241;43m-\u001b[39;49m\u001b[43mt\u001b[49m\u001b[43m \u001b[49m\u001b[38;5;241;43m/\u001b[39;49m\u001b[43m \u001b[49m\u001b[43m(\u001b[49m\u001b[43mt\u001b[49m\u001b[38;5;241;43m*\u001b[39;49m\u001b[38;5;241;43m*\u001b[39;49m\u001b[38;5;241;43m2\u001b[39;49m\u001b[43m \u001b[49m\u001b[38;5;241;43m+\u001b[39;49m\u001b[43m \u001b[49m\u001b[38;5;241;43m4\u001b[39;49m\u001b[43m)\u001b[49m\u001b[38;5;241;43m*\u001b[39;49m\u001b[38;5;241;43m*\u001b[39;49m\u001b[38;5;241;43m1.5\u001b[39;49m\u001b[43m]\u001b[49m\u001b[43m)\u001b[49m\n",
      "\u001b[0;31mValueError\u001b[0m: setting an array element with a sequence. The requested array has an inhomogeneous shape after 1 dimensions. The detected shape was (2,) + inhomogeneous part."
     ]
    },
    {
     "data": {
      "image/png": "[encoded data removed]",
      "text/plain": [
       "<Figure size 640x480 with 1 Axes>"
      ]
     },
     "metadata": {},
     "output_type": "display_data"
    }
   ],
   "source": [
    "plt.plot(t, x)\n",
    "plt.plot(t, f([0,0],t))\n",
    "plt.show()\n",
    "plt.plot(t,v)\n",
    "plt.show()"
   ]
  }
 ],
 "metadata": {
  "kernelspec": {
   "display_name": "python-3.12",
   "language": "python",
   "name": "python3"
  },
  "language_info": {
   "codemirror_mode": {
    "name": "ipython",
    "version": 3
   },
   "file_extension": ".py",
   "mimetype": "text/x-python",
   "name": "python",
   "nbconvert_exporter": "python",
   "pygments_lexer": "ipython3",
   "version": "3.12.4"
  }
 },
 "nbformat": 4,
 "nbformat_minor": 2
}
