{
 "cells": [
  {
   "cell_type": "code",
   "execution_count": 1,
   "metadata": {},
   "outputs": [
    {
     "name": "stdout",
     "output_type": "stream",
     "text": [
      "Collecting rocketserializer\n",
      "  Downloading rocketserializer-0.2.0-py3-none-any.whl.metadata (7.7 kB)\n",
      "Collecting bs4 (from rocketserializer)\n",
      "  Downloading bs4-0.0.2-py2.py3-none-any.whl.metadata (411 bytes)\n",
      "Collecting click>=8.0.0 (from rocketserializer)\n",
      "  Using cached click-8.1.7-py3-none-any.whl.metadata (3.0 kB)\n",
      "Collecting lxml (from rocketserializer)\n",
      "  Downloading lxml-5.3.0-cp312-cp312-manylinux_2_28_x86_64.whl.metadata (3.8 kB)\n",
      "Requirement already satisfied: numpy in /home/unknown/Clubs/Launch/Misc/DeploymentMod/.direnv/python-3.12/lib/python3.12/site-packages (from rocketserializer) (2.0.1)\n",
      "Collecting orhelper==0.1.3 (from rocketserializer)\n",
      "  Downloading orhelper-0.1.3-py3-none-any.whl.metadata (2.9 kB)\n",
      "Collecting pyyaml (from rocketserializer)\n",
      "  Downloading PyYAML-6.0.2-cp312-cp312-manylinux_2_17_x86_64.manylinux2014_x86_64.whl.metadata (2.1 kB)\n",
      "Requirement already satisfied: rocketpy>=1.1.0 in /home/unknown/Clubs/Launch/Misc/DeploymentMod/.direnv/python-3.12/lib/python3.12/site-packages (from rocketserializer) (1.4.1)\n",
      "Collecting nbformat>=5.2.0 (from rocketserializer)\n",
      "  Using cached nbformat-5.10.4-py3-none-any.whl.metadata (3.6 kB)\n",
      "Collecting jpype1>=0.6.3 (from orhelper==0.1.3->rocketserializer)\n",
      "  Downloading JPype1-1.5.0-cp312-cp312-manylinux_2_17_x86_64.manylinux2014_x86_64.whl.metadata (4.9 kB)\n",
      "Collecting fastjsonschema>=2.15 (from nbformat>=5.2.0->rocketserializer)\n",
      "  Using cached fastjsonschema-2.20.0-py3-none-any.whl.metadata (2.1 kB)\n",
      "Collecting jsonschema>=2.6 (from nbformat>=5.2.0->rocketserializer)\n",
      "  Using cached jsonschema-4.23.0-py3-none-any.whl.metadata (7.9 kB)\n",
      "Requirement already satisfied: jupyter-core!=5.0.*,>=4.12 in /home/unknown/Clubs/Launch/Misc/DeploymentMod/.direnv/python-3.12/lib/python3.12/site-packages (from nbformat>=5.2.0->rocketserializer) (5.7.2)\n",
      "Requirement already satisfied: traitlets>=5.1 in /home/unknown/Clubs/Launch/Misc/DeploymentMod/.direnv/python-3.12/lib/python3.12/site-packages (from nbformat>=5.2.0->rocketserializer) (5.14.3)\n",
      "Requirement already satisfied: scipy>=1.0 in /home/unknown/Clubs/Launch/Misc/DeploymentMod/.direnv/python-3.12/lib/python3.12/site-packages (from rocketpy>=1.1.0->rocketserializer) (1.14.0)\n",
      "Requirement already satisfied: matplotlib>=3.0 in /home/unknown/Clubs/Launch/Misc/DeploymentMod/.direnv/python-3.12/lib/python3.12/site-packages (from rocketpy>=1.1.0->rocketserializer) (3.9.1)\n",
      "Requirement already satisfied: netCDF4>=1.6.4 in /home/unknown/Clubs/Launch/Misc/DeploymentMod/.direnv/python-3.12/lib/python3.12/site-packages (from rocketpy>=1.1.0->rocketserializer) (1.7.1.post1)\n",
      "Requirement already satisfied: requests in /home/unknown/Clubs/Launch/Misc/DeploymentMod/.direnv/python-3.12/lib/python3.12/site-packages (from rocketpy>=1.1.0->rocketserializer) (2.32.3)\n",
      "Requirement already satisfied: pytz in /home/unknown/Clubs/Launch/Misc/DeploymentMod/.direnv/python-3.12/lib/python3.12/site-packages (from rocketpy>=1.1.0->rocketserializer) (2024.1)\n",
      "Requirement already satisfied: simplekml in /home/unknown/Clubs/Launch/Misc/DeploymentMod/.direnv/python-3.12/lib/python3.12/site-packages (from rocketpy>=1.1.0->rocketserializer) (1.3.6)\n",
      "Collecting beautifulsoup4 (from bs4->rocketserializer)\n",
      "  Using cached beautifulsoup4-4.12.3-py3-none-any.whl.metadata (3.8 kB)\n",
      "Requirement already satisfied: packaging in /home/unknown/Clubs/Launch/Misc/DeploymentMod/.direnv/python-3.12/lib/python3.12/site-packages (from jpype1>=0.6.3->orhelper==0.1.3->rocketserializer) (24.1)\n",
      "Collecting attrs>=22.2.0 (from jsonschema>=2.6->nbformat>=5.2.0->rocketserializer)\n",
      "  Downloading attrs-24.2.0-py3-none-any.whl.metadata (11 kB)\n",
      "Collecting jsonschema-specifications>=2023.03.6 (from jsonschema>=2.6->nbformat>=5.2.0->rocketserializer)\n",
      "  Using cached jsonschema_specifications-2023.12.1-py3-none-any.whl.metadata (3.0 kB)\n",
      "Collecting referencing>=0.28.4 (from jsonschema>=2.6->nbformat>=5.2.0->rocketserializer)\n",
      "  Using cached referencing-0.35.1-py3-none-any.whl.metadata (2.8 kB)\n",
      "Collecting rpds-py>=0.7.1 (from jsonschema>=2.6->nbformat>=5.2.0->rocketserializer)\n",
      "  Downloading rpds_py-0.20.0-cp312-cp312-manylinux_2_17_x86_64.manylinux2014_x86_64.whl.metadata (4.2 kB)\n",
      "Requirement already satisfied: platformdirs>=2.5 in /home/unknown/Clubs/Launch/Misc/DeploymentMod/.direnv/python-3.12/lib/python3.12/site-packages (from jupyter-core!=5.0.*,>=4.12->nbformat>=5.2.0->rocketserializer) (4.2.2)\n",
      "Requirement already satisfied: contourpy>=1.0.1 in /home/unknown/Clubs/Launch/Misc/DeploymentMod/.direnv/python-3.12/lib/python3.12/site-packages (from matplotlib>=3.0->rocketpy>=1.1.0->rocketserializer) (1.2.1)\n",
      "Requirement already satisfied: cycler>=0.10 in /home/unknown/Clubs/Launch/Misc/DeploymentMod/.direnv/python-3.12/lib/python3.12/site-packages (from matplotlib>=3.0->rocketpy>=1.1.0->rocketserializer) (0.12.1)\n",
      "Requirement already satisfied: fonttools>=4.22.0 in /home/unknown/Clubs/Launch/Misc/DeploymentMod/.direnv/python-3.12/lib/python3.12/site-packages (from matplotlib>=3.0->rocketpy>=1.1.0->rocketserializer) (4.53.1)\n",
      "Requirement already satisfied: kiwisolver>=1.3.1 in /home/unknown/Clubs/Launch/Misc/DeploymentMod/.direnv/python-3.12/lib/python3.12/site-packages (from matplotlib>=3.0->rocketpy>=1.1.0->rocketserializer) (1.4.5)\n",
      "Requirement already satisfied: pillow>=8 in /home/unknown/Clubs/Launch/Misc/DeploymentMod/.direnv/python-3.12/lib/python3.12/site-packages (from matplotlib>=3.0->rocketpy>=1.1.0->rocketserializer) (10.4.0)\n",
      "Requirement already satisfied: pyparsing>=2.3.1 in /home/unknown/Clubs/Launch/Misc/DeploymentMod/.direnv/python-3.12/lib/python3.12/site-packages (from matplotlib>=3.0->rocketpy>=1.1.0->rocketserializer) (3.1.2)\n",
      "Requirement already satisfied: python-dateutil>=2.7 in /home/unknown/Clubs/Launch/Misc/DeploymentMod/.direnv/python-3.12/lib/python3.12/site-packages (from matplotlib>=3.0->rocketpy>=1.1.0->rocketserializer) (2.9.0.post0)\n",
      "Requirement already satisfied: cftime in /home/unknown/Clubs/Launch/Misc/DeploymentMod/.direnv/python-3.12/lib/python3.12/site-packages (from netCDF4>=1.6.4->rocketpy>=1.1.0->rocketserializer) (1.6.4)\n",
      "Requirement already satisfied: certifi in /home/unknown/Clubs/Launch/Misc/DeploymentMod/.direnv/python-3.12/lib/python3.12/site-packages (from netCDF4>=1.6.4->rocketpy>=1.1.0->rocketserializer) (2024.7.4)\n",
      "Collecting soupsieve>1.2 (from beautifulsoup4->bs4->rocketserializer)\n",
      "  Downloading soupsieve-2.6-py3-none-any.whl.metadata (4.6 kB)\n",
      "Requirement already satisfied: charset-normalizer<4,>=2 in /home/unknown/Clubs/Launch/Misc/DeploymentMod/.direnv/python-3.12/lib/python3.12/site-packages (from requests->rocketpy>=1.1.0->rocketserializer) (3.3.2)\n",
      "Requirement already satisfied: idna<4,>=2.5 in /home/unknown/Clubs/Launch/Misc/DeploymentMod/.direnv/python-3.12/lib/python3.12/site-packages (from requests->rocketpy>=1.1.0->rocketserializer) (3.7)\n",
      "Requirement already satisfied: urllib3<3,>=1.21.1 in /home/unknown/Clubs/Launch/Misc/DeploymentMod/.direnv/python-3.12/lib/python3.12/site-packages (from requests->rocketpy>=1.1.0->rocketserializer) (2.2.2)\n",
      "Requirement already satisfied: six>=1.5 in /home/unknown/Clubs/Launch/Misc/DeploymentMod/.direnv/python-3.12/lib/python3.12/site-packages (from python-dateutil>=2.7->matplotlib>=3.0->rocketpy>=1.1.0->rocketserializer) (1.16.0)\n",
      "Downloading rocketserializer-0.2.0-py3-none-any.whl (33 kB)\n",
      "Downloading orhelper-0.1.3-py3-none-any.whl (14 kB)\n",
      "Using cached click-8.1.7-py3-none-any.whl (97 kB)\n",
      "Using cached nbformat-5.10.4-py3-none-any.whl (78 kB)\n",
      "Downloading bs4-0.0.2-py2.py3-none-any.whl (1.2 kB)\n",
      "Downloading lxml-5.3.0-cp312-cp312-manylinux_2_28_x86_64.whl (4.9 MB)\n",
      "\u001b[2K   \u001b[90m━━━━━━━━━━━━━━━━━━━━━━━━━━━━━━━━━━━━━━━━\u001b[0m \u001b[32m4.9/4.9 MB\u001b[0m \u001b[31m19.3 MB/s\u001b[0m eta \u001b[36m0:00:00\u001b[0ma \u001b[36m0:00:01\u001b[0m\n",
      "\u001b[?25hDownloading PyYAML-6.0.2-cp312-cp312-manylinux_2_17_x86_64.manylinux2014_x86_64.whl (767 kB)\n",
      "\u001b[2K   \u001b[90m━━━━━━━━━━━━━━━━━━━━━━━━━━━━━━━━━━━━━━━━\u001b[0m \u001b[32m767.5/767.5 kB\u001b[0m \u001b[31m35.7 MB/s\u001b[0m eta \u001b[36m0:00:00\u001b[0m\n",
      "\u001b[?25hUsing cached fastjsonschema-2.20.0-py3-none-any.whl (23 kB)\n",
      "Downloading JPype1-1.5.0-cp312-cp312-manylinux_2_17_x86_64.manylinux2014_x86_64.whl (488 kB)\n",
      "\u001b[2K   \u001b[90m━━━━━━━━━━━━━━━━━━━━━━━━━━━━━━━━━━━━━━━━\u001b[0m \u001b[32m488.9/488.9 kB\u001b[0m \u001b[31m35.4 MB/s\u001b[0m eta \u001b[36m0:00:00\u001b[0m\n",
      "\u001b[?25hUsing cached jsonschema-4.23.0-py3-none-any.whl (88 kB)\n",
      "Using cached beautifulsoup4-4.12.3-py3-none-any.whl (147 kB)\n",
      "Downloading attrs-24.2.0-py3-none-any.whl (63 kB)\n",
      "\u001b[2K   \u001b[90m━━━━━━━━━━━━━━━━━━━━━━━━━━━━━━━━━━━━━━━━\u001b[0m \u001b[32m63.0/63.0 kB\u001b[0m \u001b[31m21.8 MB/s\u001b[0m eta \u001b[36m0:00:00\u001b[0m\n",
      "\u001b[?25hUsing cached jsonschema_specifications-2023.12.1-py3-none-any.whl (18 kB)\n",
      "Using cached referencing-0.35.1-py3-none-any.whl (26 kB)\n",
      "Downloading rpds_py-0.20.0-cp312-cp312-manylinux_2_17_x86_64.manylinux2014_x86_64.whl (357 kB)\n",
      "\u001b[2K   \u001b[90m━━━━━━━━━━━━━━━━━━━━━━━━━━━━━━━━━━━━━━━━\u001b[0m \u001b[32m358.0/358.0 kB\u001b[0m \u001b[31m34.6 MB/s\u001b[0m eta \u001b[36m0:00:00\u001b[0m\n",
      "\u001b[?25hDownloading soupsieve-2.6-py3-none-any.whl (36 kB)\n",
      "Installing collected packages: fastjsonschema, soupsieve, rpds-py, pyyaml, lxml, jpype1, click, attrs, referencing, orhelper, beautifulsoup4, jsonschema-specifications, bs4, jsonschema, nbformat, rocketserializer\n",
      "Successfully installed attrs-24.2.0 beautifulsoup4-4.12.3 bs4-0.0.2 click-8.1.7 fastjsonschema-2.20.0 jpype1-1.5.0 jsonschema-4.23.0 jsonschema-specifications-2023.12.1 lxml-5.3.0 nbformat-5.10.4 orhelper-0.1.3 pyyaml-6.0.2 referencing-0.35.1 rocketserializer-0.2.0 rpds-py-0.20.0 soupsieve-2.6\n",
      "\n",
      "\u001b[1m[\u001b[0m\u001b[34;49mnotice\u001b[0m\u001b[1;39;49m]\u001b[0m\u001b[39;49m A new release of pip is available: \u001b[0m\u001b[31;49m24.0\u001b[0m\u001b[39;49m -> \u001b[0m\u001b[32;49m24.2\u001b[0m\n",
      "\u001b[1m[\u001b[0m\u001b[34;49mnotice\u001b[0m\u001b[1;39;49m]\u001b[0m\u001b[39;49m To update, run: \u001b[0m\u001b[32;49mpip install --upgrade pip\u001b[0m\n",
      "Note: you may need to restart the kernel to use updated packages.\n"
     ]
    }
   ],
   "source": [
    "%pip install rocketserializer"
   ]
  },
  {
   "cell_type": "code",
   "execution_count": null,
   "metadata": {},
   "outputs": [],
   "source": [
    "%ork2"
   ]
  }
 ],
 "metadata": {
  "kernelspec": {
   "display_name": "python-3.12",
   "language": "python",
   "name": "python3"
  },
  "language_info": {
   "codemirror_mode": {
    "name": "ipython",
    "version": 3
   },
   "file_extension": ".py",
   "mimetype": "text/x-python",
   "name": "python",
   "nbconvert_exporter": "python",
   "pygments_lexer": "ipython3",
   "version": "3.12.4"
  }
 },
 "nbformat": 4,
 "nbformat_minor": 2
}
