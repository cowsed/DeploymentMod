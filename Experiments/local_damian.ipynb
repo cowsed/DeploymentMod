{
 "cells": [
  {
   "cell_type": "code",
   "execution_count": 16,
   "metadata": {},
   "outputs": [],
   "source": [
    "import pandas as pd\n",
    "import numpy as np\n",
    "from math import pow\n",
    "from scipy import integrate\n",
    "import matplotlib.pyplot as plt\n",
    "from scipy.optimize import curve_fit"
   ]
  },
  {
   "cell_type": "code",
   "execution_count": 8,
   "metadata": {},
   "outputs": [],
   "source": [
    "df = pd.read_csv(\"Data/Grim/data.csv\", index_col=0)"
   ]
  },
  {
   "cell_type": "code",
   "execution_count": 9,
   "metadata": {},
   "outputs": [],
   "source": [
    "def rrc3_pressure_conversion_function_ft(press_kpa):\n",
    "    pressure = press_kpa * 10\n",
    "    altitude = (1 - pow(pressure / 1_013.25, 0.190284)) * 145_366.45\n",
    "    return altitude\n",
    "def ft_to_meters(ft): return ft * 0.3048"
   ]
  },
  {
   "cell_type": "code",
   "execution_count": 10,
   "metadata": {},
   "outputs": [],
   "source": [
    "boost_end = 3_500\n",
    "first_charge = 28_125\n",
    "\n",
    "altim = df[['pressure (kPa)']].copy()\n",
    "altim['alt_m_asl'] = altim['pressure (kPa)'].map(rrc3_pressure_conversion_function_ft).map(ft_to_meters)\n",
    "altim['alt_m_agl'] = altim['alt_m_asl'] - altim['alt_m_asl'].min()"
   ]
  },
  {
   "cell_type": "code",
   "execution_count": 14,
   "metadata": {},
   "outputs": [],
   "source": [
    "nice_data = altim.loc[boost_end:first_charge].copy()\n",
    "nice_data.index = nice_data.index.to_series() / 1000.0\n",
    "nice_data.index.set_names(\"timestamp\", inplace=True)\n",
    "nice_data['t'] = nice_data.index"
   ]
  },
  {
   "cell_type": "code",
   "execution_count": 15,
   "metadata": {},
   "outputs": [
    {
     "name": "stdout",
     "output_type": "stream",
     "text": [
      "3712.8837039159207 28.056\n"
     ]
    }
   ],
   "source": [
    "actual_apogee, actual_apogee_index = nice_data['alt_m_agl'].max(), nice_data['alt_m_agl'].argmax() \n",
    "actual_apogee_time = nice_data.iloc[actual_apogee_index].t\n",
    "print(actual_apogee, actual_apogee_time)"
   ]
  },
  {
   "cell_type": "code",
   "execution_count": 12,
   "metadata": {},
   "outputs": [],
   "source": [
    "def f(x, a, b, c):\n",
    "    return a*x + c + b / x"
   ]
  },
  {
   "cell_type": "code",
   "execution_count": 18,
   "metadata": {},
   "outputs": [],
   "source": [
    "def calc_slope(x):\n",
    "    fit = np.polyfit(x.index, x, 1)\n",
    "    slope = fit[0]\n",
    "    return slope"
   ]
  },
  {
   "cell_type": "code",
   "execution_count": 21,
   "metadata": {},
   "outputs": [],
   "source": [
    "nice_data['vel_m_agl'] = nice_data['alt_m_agl'].rolling(100).apply(calc_slope)"
   ]
  },
  {
   "cell_type": "code",
   "execution_count": 26,
   "metadata": {},
   "outputs": [],
   "source": [
    "nice_data = nice_data.dropna()"
   ]
  },
  {
   "cell_type": "code",
   "execution_count": 36,
   "metadata": {},
   "outputs": [],
   "source": [
    "def curve_fit_to_now(row, window_size_sec = 1):\n",
    "    endt = row.name\n",
    "    startt = max(endt - window_size_sec, nice_data.iloc[0].name)\n",
    "    data = nice_data[startt:endt]\n",
    "\n",
    "    args, stuff = curve_fit(f, nice_data.index, nice_data['vel_m_agl'])\n",
    "    # poly = np.polyfit(data.index, data['alt_m_agl'], 2)\n",
    "    predictor = lambda x : f(x, *args)\n",
    "\n",
    "\n",
    "\n",
    "    outs = predictor(nice_data.index)\n",
    "    predicted_apogee_index = outs.abs().min().argmax()\n",
    "    # predicted_apogee, predicted_apogee_index = outs.max(), outs.argmax()\n",
    "    predicted_apogee_time = nice_data.iloc[predicted_apogee_index].name\n",
    "\n",
    "    if predicted_apogee > 10_000:\n",
    "        predicted_apogee = 10_000\n",
    "    elif predicted_apogee < 0:\n",
    "        return 0\n",
    "    pred_alt = predictor(endt)\n",
    "    return pred_alt, predicted_apogee_time, args[0], args[1], args[2]"
   ]
  },
  {
   "cell_type": "code",
   "execution_count": 37,
   "metadata": {},
   "outputs": [],
   "source": [
    "window_sizes = [0.25, 0.375, 0.5, 1, 2,5 , 8, 10, 15, 20, 30]"
   ]
  },
  {
   "cell_type": "code",
   "execution_count": 38,
   "metadata": {},
   "outputs": [],
   "source": [
    "for i, (win_size, data) in enumerate(zip(window_sizes, datas)):\n",
    "    wdata = data.iloc[60:]\n",
    "\n",
    "    me0 = wdata['e0'].abs().max()\n",
    "    me1 = wdata['e1'].abs().max()\n",
    "    me2 = wdata['e2'].abs().max()\n",
    "\n",
    "    fig = plt.subplot(len(window_sizes), 1, i+1)\n",
    "\n",
    "    fig.plot(wdata['alt_diff'])\n",
    "    tx = fig.twinx()\n",
    "    # tx.plot(wdata['e1'] / me1, label = f\"e0 / {me0:.2f}\")\n",
    "    # tx.plot(wdata['e0'] / me0, label = f\"e1 / {me1:.2f}\")\n",
    "    # tx.plot(wdata['e2'] / me2, label = f\"e2 / {me2:.2f}\")\n",
    "\n",
    "\n",
    "    madt = wdata['apogee_diff_t'].abs().max()\n",
    "    tx.plot(wdata['apogee_diff_t'] / madt, label = f\"apogee time difference / {madt:.2f}\")\n",
    "\n",
    "\n",
    "    tx.axhline(0, c = 'gray', linestyle = 'dashed')\n",
    "\n",
    "    fig.set_title(f\"Difference between predicted altitude and actual altitude at a given time\\nParabola fit from now-{win_size}s to now\")\n",
    "    fig.set_ylabel(\"Difference (m)\")\n",
    "    fig.legend()\n",
    "    tx.legend(loc = 'lower right')\n",
    "\n",
    "fig.get_figure().set_figwidth(16)\n",
    "fig.get_figure().set_figheight(9*8)\n"
   ]
  }
 ],
 "metadata": {
  "kernelspec": {
   "display_name": "python-3.12",
   "language": "python",
   "name": "python3"
  },
  "language_info": {
   "codemirror_mode": {
    "name": "ipython",
    "version": 3
   },
   "file_extension": ".py",
   "mimetype": "text/x-python",
   "name": "python",
   "nbconvert_exporter": "python",
   "pygments_lexer": "ipython3",
   "version": "3.12.4"
  }
 },
 "nbformat": 4,
 "nbformat_minor": 2
}
